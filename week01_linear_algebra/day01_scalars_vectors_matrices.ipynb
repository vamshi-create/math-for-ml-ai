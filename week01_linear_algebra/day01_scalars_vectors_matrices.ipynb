{
  "nbformat": 4,
  "nbformat_minor": 0,
  "metadata": {
    "colab": {
      "provenance": [],
      "authorship_tag": "ABX9TyNZYj9rPTGlMb8QXxPxH3tU",
      "include_colab_link": true
    },
    "kernelspec": {
      "name": "python3",
      "display_name": "Python 3"
    },
    "language_info": {
      "name": "python"
    }
  },
  "cells": [
    {
      "cell_type": "markdown",
      "metadata": {
        "id": "view-in-github",
        "colab_type": "text"
      },
      "source": [
        "<a href=\"https://colab.research.google.com/github/vamshi-create/math-for-ml-ai/blob/main/week01_linear_algebra/day01_scalars_vectors_matrices.ipynb\" target=\"_parent\"><img src=\"https://colab.research.google.com/assets/colab-badge.svg\" alt=\"Open In Colab\"/></a>"
      ]
    },
    {
      "cell_type": "code",
      "execution_count": null,
      "metadata": {
        "id": "VUKwbm3fmgOE"
      },
      "outputs": [],
      "source": [
        "# DAY 1: Scalars, Vectors, and Matrices\n",
        "\n",
        "## 📘 Introduction\n",
        "\"\"\"\n",
        "Today we’re covering the most fundamental building blocks in linear algebra:\n",
        "scalars, vectors, and matrices — and how to work with them using NumPy.\n",
        "\"\"\"\n",
        "\n",
        "# 🧠 Concept Summary\n",
        "\"\"\"\n",
        "- Scalar: A single number (e.g., 5, -2, π)\n",
        "- Vector: A 1D array of numbers\n",
        "- Matrix: A 2D array (like a table)\n",
        "\"\"\"\n",
        "\n",
        "# 🧪 Let's Code!\n",
        "\n",
        "import numpy as np\n",
        "\n",
        "# Scalar\n",
        "a = 5\n",
        "\n",
        "# Vector (1D)\n",
        "v = np.array([1, 2, 3])\n",
        "\n",
        "# Column Vector\n",
        "v_col = v.reshape(-1, 1)\n",
        "\n",
        "# Matrix (2D)\n",
        "A = np.array([[1, 2],\n",
        "              [3, 4]])\n",
        "\n",
        "print(\"Scalar:\", a)\n",
        "print(\"Vector:\", v)\n",
        "print(\"Column Vector:\\n\", v_col)\n",
        "print(\"Matrix:\\n\", A)\n",
        "\n",
        "# 🔍 Shape Exploration\n",
        "print(\"\\nShapes:\")\n",
        "print(\"v:\", v.shape)\n",
        "print(\"v_col:\", v_col.shape)\n",
        "print(\"A:\", A.shape)\n",
        "\n",
        "# ✅ Operations\n",
        "v2 = np.array([4, 5, 6])\n",
        "print(\"\\nv + v2 =\", v + v2)\n",
        "print(\"2 * v =\", 2 * v)\n",
        "print(\"A @ v[:2] =\", A @ v[:2])  # matrix-vector multiplication\n"
      ]
    }
  ]
}